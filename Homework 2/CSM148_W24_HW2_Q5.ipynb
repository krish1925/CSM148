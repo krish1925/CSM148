{
  "cells": [
    {
      "cell_type": "markdown",
      "metadata": {
        "id": "61vAUKFWvQdc"
      },
      "source": [
        "## 24W-COM SCI-M148 Homework 2 Coding Question\n",
        "\n",
        "Name: Krish Patel\n",
        "\n",
        "UID: 605 796 227\n",
        "\n",
        "### **Submission Guidelines**\n",
        "1. Please fill in your name and UID above.\n",
        "\n",
        "2. Please submit a **PDF printout** of your Jupyter Notebook to **Gradescope**. If you have any trouble accessing Gradescope, please let a TA know ASAP.  \n",
        "\n",
        "3. As the PDF can get long, please tag the respective sections to ensure the readers know where to look.  "
      ]
    },
    {
      "cell_type": "markdown",
      "metadata": {
        "deletable": true,
        "editable": true,
        "id": "TDxN2eD_vCVi"
      },
      "source": [
        "# Overview\n",
        "This coding question is about training and explaining what neural networks are doing with LIME (short for Local Interpretable Model-agnostic Explanations).\n",
        "\n",
        "We use a small image dataset called MNIST. It is a dataset of handwritten digits that is commonly used for training image classification models."
      ]
    },
    {
      "cell_type": "code",
      "execution_count": 1,
      "metadata": {
        "deletable": true,
        "editable": true,
        "id": "fQxERsj3vCVj"
      },
      "outputs": [],
      "source": [
        "import numpy as np\n",
        "import matplotlib.pyplot as plt\n",
        "from skimage.color import gray2rgb, rgb2gray, label2rgb # since the code wants color images"
      ]
    },
    {
      "cell_type": "code",
      "execution_count": 2,
      "metadata": {
        "collapsed": true,
        "deletable": true,
        "editable": true,
        "id": "RSUayfLBvCVk"
      },
      "outputs": [
        {
          "name": "stderr",
          "output_type": "stream",
          "text": [
            "/opt/homebrew/lib/python3.11/site-packages/sklearn/datasets/_openml.py:1022: FutureWarning: The default value of `parser` will change from `'liac-arff'` to `'auto'` in 1.4. You can set `parser='auto'` to silence this warning. Therefore, an `ImportError` will be raised from 1.4 if the dataset is dense and pandas is not installed. Note that the pandas parser may return different data types. See the Notes Section in fetch_openml's API doc for details.\n",
            "  warn(\n"
          ]
        }
      ],
      "source": [
        "from sklearn.datasets import fetch_openml\n",
        "mnist = fetch_openml('mnist_784')\n",
        "# make each image color so lime_image works correctly\n",
        "X_vec = np.stack([gray2rgb(iimg) for iimg in mnist.data.values.reshape((-1, 28, 28))],0).astype(np.uint8)\n",
        "y_vec = mnist.target.astype(np.uint8)"
      ]
    },
    {
      "cell_type": "code",
      "execution_count": 3,
      "metadata": {
        "deletable": true,
        "editable": true,
        "id": "6OVz5CmvvCVk"
      },
      "outputs": [
        {
          "data": {
            "text/plain": [
              "Text(0.5, 1.0, 'Digit: 5')"
            ]
          },
          "execution_count": 3,
          "metadata": {},
          "output_type": "execute_result"
        },
        {
          "data": {
            "image/png": "[encoded data removed]",
            "text/plain": [
              "<Figure size 640x480 with 1 Axes>"
            ]
          },
          "metadata": {},
          "output_type": "display_data"
        }
      ],
      "source": [
        "%matplotlib inline\n",
        "fig, ax1 = plt.subplots(1,1)\n",
        "ax1.imshow(X_vec[0], interpolation = 'none')\n",
        "ax1.set_title('Digit: {}'.format(y_vec[0]))"
      ]
    },
    {
      "cell_type": "markdown",
      "metadata": {
        "deletable": true,
        "editable": true,
        "id": "qy6iW-K4vCVl"
      },
      "source": [
        "# Setup a Pipeline\n",
        "Here we make a pipeline for processing the images where basically we flatten the image back to 1d vectors and then use a neural network with one hidden layer."
      ]
    },
    {
      "cell_type": "code",
      "execution_count": 4,
      "metadata": {
        "deletable": true,
        "editable": true,
        "id": "vGMGeAWAvCVl"
      },
      "outputs": [],
      "source": [
        "from sklearn.pipeline import Pipeline\n",
        "from sklearn.neural_network import MLPClassifier\n",
        "from sklearn.preprocessing import Normalizer\n",
        "\n",
        "class PipeStep(object):\n",
        "    \"\"\"\n",
        "    Wrapper for turning functions into pipeline transforms (no-fitting)\n",
        "    \"\"\"\n",
        "    def __init__(self, step_func):\n",
        "        self._step_func=step_func\n",
        "    def fit(self,*args):\n",
        "        return self\n",
        "    def transform(self,X):\n",
        "        return self._step_func(X)\n",
        "\n",
        "\n",
        "makegray_step = PipeStep(lambda img_list: [rgb2gray(img) for img in img_list])\n",
        "flatten_step = PipeStep(lambda img_list: [img.ravel() for img in img_list])\n",
        "\n",
        "simple_nn_pipeline = Pipeline([\n",
        "    ('Make Gray', makegray_step),\n",
        "    ('Flatten Image', flatten_step),\n",
        "    ('NN', MLPClassifier()) # This is a neural network with 1 hidden layer\n",
        "    ])"
      ]
    },
    {
      "cell_type": "markdown",
      "metadata": {
        "id": "ZeusGz3Uz2Vp"
      },
      "source": [
        "Now, let's do the train-test split to have 55% data in the train set with the random state set to 0:"
      ]
    },
    {
      "cell_type": "code",
      "execution_count": 10,
      "metadata": {
        "deletable": true,
        "editable": true,
        "id": "bcX2CXwpvCVl"
      },
      "outputs": [
        {
          "name": "stdout",
          "output_type": "stream",
          "text": [
            "Shape of X_vec: (70000, 28, 28, 3)\n"
          ]
        }
      ],
      "source": [
        "print(\"Shape of X_vec: {}\".format(X_vec.shape))\n",
        "percent = 0.55\n",
        "\n",
        "X_train, X_test, y_train, y_test = X_vec[:int(percent*len(X_vec))], X_vec[int(percent*len(X_vec)):], y_vec[:int(percent*len(X_vec))], y_vec[int(percent*len(X_vec)):]"
      ]
    },
    {
      "cell_type": "code",
      "execution_count": 12,
      "metadata": {
        "deletable": true,
        "editable": true,
        "id": "3z_PxTmwvCVl"
      },
      "outputs": [
        {
          "data": {
            "text/html": [
              "<style>#sk-container-id-1 {color: black;}#sk-container-id-1 pre{padding: 0;}#sk-container-id-1 div.sk-toggleable {background-color: white;}#sk-container-id-1 label.sk-toggleable__label {cursor: pointer;display: block;width: 100%;margin-bottom: 0;padding: 0.3em;box-sizing: border-box;text-align: center;}#sk-container-id-1 label.sk-toggleable__label-arrow:before {content: \"▸\";float: left;margin-right: 0.25em;color: #696969;}#sk-container-id-1 label.sk-toggleable__label-arrow:hover:before {color: black;}#sk-container-id-1 div.sk-estimator:hover label.sk-toggleable__label-arrow:before {color: black;}#sk-container-id-1 div.sk-toggleable__content {max-height: 0;max-width: 0;overflow: hidden;text-align: left;background-color: #f0f8ff;}#sk-container-id-1 div.sk-toggleable__content pre {margin: 0.2em;color: black;border-radius: 0.25em;background-color: #f0f8ff;}#sk-container-id-1 input.sk-toggleable__control:checked~div.sk-toggleable__content {max-height: 200px;max-width: 100%;overflow: auto;}#sk-container-id-1 input.sk-toggleable__control:checked~label.sk-toggleable__label-arrow:before {content: \"▾\";}#sk-container-id-1 div.sk-estimator input.sk-toggleable__control:checked~label.sk-toggleable__label {background-color: #d4ebff;}#sk-container-id-1 div.sk-label input.sk-toggleable__control:checked~label.sk-toggleable__label {background-color: #d4ebff;}#sk-container-id-1 input.sk-hidden--visually {border: 0;clip: rect(1px 1px 1px 1px);clip: rect(1px, 1px, 1px, 1px);height: 1px;margin: -1px;overflow: hidden;padding: 0;position: absolute;width: 1px;}#sk-container-id-1 div.sk-estimator {font-family: monospace;background-color: #f0f8ff;border: 1px dotted black;border-radius: 0.25em;box-sizing: border-box;margin-bottom: 0.5em;}#sk-container-id-1 div.sk-estimator:hover {background-color: #d4ebff;}#sk-container-id-1 div.sk-parallel-item::after {content: \"\";width: 100%;border-bottom: 1px solid gray;flex-grow: 1;}#sk-container-id-1 div.sk-label:hover label.sk-toggleable__label {background-color: #d4ebff;}#sk-container-id-1 div.sk-serial::before {content: \"\";position: absolute;border-left: 1px solid gray;box-sizing: border-box;top: 0;bottom: 0;left: 50%;z-index: 0;}#sk-container-id-1 div.sk-serial {display: flex;flex-direction: column;align-items: center;background-color: white;padding-right: 0.2em;padding-left: 0.2em;position: relative;}#sk-container-id-1 div.sk-item {position: relative;z-index: 1;}#sk-container-id-1 div.sk-parallel {display: flex;align-items: stretch;justify-content: center;background-color: white;position: relative;}#sk-container-id-1 div.sk-item::before, #sk-container-id-1 div.sk-parallel-item::before {content: \"\";position: absolute;border-left: 1px solid gray;box-sizing: border-box;top: 0;bottom: 0;left: 50%;z-index: -1;}#sk-container-id-1 div.sk-parallel-item {display: flex;flex-direction: column;z-index: 1;position: relative;background-color: white;}#sk-container-id-1 div.sk-parallel-item:first-child::after {align-self: flex-end;width: 50%;}#sk-container-id-1 div.sk-parallel-item:last-child::after {align-self: flex-start;width: 50%;}#sk-container-id-1 div.sk-parallel-item:only-child::after {width: 0;}#sk-container-id-1 div.sk-dashed-wrapped {border: 1px dashed gray;margin: 0 0.4em 0.5em 0.4em;box-sizing: border-box;padding-bottom: 0.4em;background-color: white;}#sk-container-id-1 div.sk-label label {font-family: monospace;font-weight: bold;display: inline-block;line-height: 1.2em;}#sk-container-id-1 div.sk-label-container {text-align: center;}#sk-container-id-1 div.sk-container {/* jupyter's `normalize.less` sets `[hidden] { display: none; }` but bootstrap.min.css set `[hidden] { display: none !important; }` so we also need the `!important` here to be able to override the default hidden behavior on the sphinx rendered scikit-learn.org. See: https://github.com/scikit-learn/scikit-learn/issues/21755 */display: inline-block !important;position: relative;}#sk-container-id-1 div.sk-text-repr-fallback {display: none;}</style><div id=\"sk-container-id-1\" class=\"sk-top-container\"><div class=\"sk-text-repr-fallback\"><pre>Pipeline(steps=[(&#x27;Make Gray&#x27;, &lt;__main__.PipeStep object at 0x14ba2f050&gt;),\n",
              "                (&#x27;Flatten Image&#x27;, &lt;__main__.PipeStep object at 0x30fad7dd0&gt;),\n",
              "                (&#x27;NN&#x27;, MLPClassifier())])</pre><b>In a Jupyter environment, please rerun this cell to show the HTML representation or trust the notebook. <br />On GitHub, the HTML representation is unable to render, please try loading this page with nbviewer.org.</b></div><div class=\"sk-container\" hidden><div class=\"sk-item sk-dashed-wrapped\"><div class=\"sk-label-container\"><div class=\"sk-label sk-toggleable\"><input class=\"sk-toggleable__control sk-hidden--visually\" id=\"sk-estimator-id-1\" type=\"checkbox\" ><label for=\"sk-estimator-id-1\" class=\"sk-toggleable__label sk-toggleable__label-arrow\">Pipeline</label><div class=\"sk-toggleable__content\"><pre>Pipeline(steps=[(&#x27;Make Gray&#x27;, &lt;__main__.PipeStep object at 0x14ba2f050&gt;),\n",
              "                (&#x27;Flatten Image&#x27;, &lt;__main__.PipeStep object at 0x30fad7dd0&gt;),\n",
              "                (&#x27;NN&#x27;, MLPClassifier())])</pre></div></div></div><div class=\"sk-serial\"><div class=\"sk-item\"><div class=\"sk-estimator sk-toggleable\"><input class=\"sk-toggleable__control sk-hidden--visually\" id=\"sk-estimator-id-2\" type=\"checkbox\" ><label for=\"sk-estimator-id-2\" class=\"sk-toggleable__label sk-toggleable__label-arrow\">PipeStep</label><div class=\"sk-toggleable__content\"><pre>&lt;__main__.PipeStep object at 0x14ba2f050&gt;</pre></div></div></div><div class=\"sk-item\"><div class=\"sk-estimator sk-toggleable\"><input class=\"sk-toggleable__control sk-hidden--visually\" id=\"sk-estimator-id-3\" type=\"checkbox\" ><label for=\"sk-estimator-id-3\" class=\"sk-toggleable__label sk-toggleable__label-arrow\">PipeStep</label><div class=\"sk-toggleable__content\"><pre>&lt;__main__.PipeStep object at 0x30fad7dd0&gt;</pre></div></div></div><div class=\"sk-item\"><div class=\"sk-estimator sk-toggleable\"><input class=\"sk-toggleable__control sk-hidden--visually\" id=\"sk-estimator-id-4\" type=\"checkbox\" ><label for=\"sk-estimator-id-4\" class=\"sk-toggleable__label sk-toggleable__label-arrow\">MLPClassifier</label><div class=\"sk-toggleable__content\"><pre>MLPClassifier()</pre></div></div></div></div></div></div></div>"
            ],
            "text/plain": [
              "Pipeline(steps=[('Make Gray', <__main__.PipeStep object at 0x14ba2f050>),\n",
              "                ('Flatten Image', <__main__.PipeStep object at 0x30fad7dd0>),\n",
              "                ('NN', MLPClassifier())])"
            ]
          },
          "execution_count": 12,
          "metadata": {},
          "output_type": "execute_result"
        }
      ],
      "source": [
        "simple_nn_pipeline.fit(X_train, y_train)\n"
      ]
    },
    {
      "cell_type": "markdown",
      "metadata": {
        "id": "4Z_5FNChEAhE"
      },
      "source": [
        "Now, let's get the training and test scores."
      ]
    },
    {
      "cell_type": "code",
      "execution_count": 13,
      "metadata": {
        "id": "WKsgGBBHD_aD"
      },
      "outputs": [
        {
          "name": "stdout",
          "output_type": "stream",
          "text": [
            "Training set score: 1.0\n",
            "Test set score: 0.9731111111111111\n"
          ]
        }
      ],
      "source": [
        "print('Training set score: ' + str( simple_nn_pipeline.score(X_train, y_train)))\n",
        "print('Test set score: ' + str( simple_nn_pipeline.score(X_test, y_test)))"
      ]
    },
    {
      "cell_type": "code",
      "execution_count": 14,
      "metadata": {
        "deletable": true,
        "editable": true,
        "id": "PGJnmpMZvCVm"
      },
      "outputs": [
        {
          "name": "stdout",
          "output_type": "stream",
          "text": [
            "Collecting lime\n",
            "  Downloading lime-0.2.0.1.tar.gz (275 kB)\n",
            "\u001b[2K     \u001b[90m━━━━━━━━━━━━━━━━━━━━━━━━━━━━━━━━━━━━━━━\u001b[0m \u001b[32m275.7/275.7 kB\u001b[0m \u001b[31m3.3 MB/s\u001b[0m eta \u001b[36m0:00:00\u001b[0ma \u001b[36m0:00:01\u001b[0m\n",
            "\u001b[?25h  Preparing metadata (setup.py) ... \u001b[?25ldone\n",
            "\u001b[?25hRequirement already satisfied: matplotlib in /opt/homebrew/lib/python3.11/site-packages (from lime) (3.8.0)\n",
            "Requirement already satisfied: numpy in /opt/homebrew/lib/python3.11/site-packages (from lime) (1.26.1)\n",
            "Requirement already satisfied: scipy in /opt/homebrew/lib/python3.11/site-packages (from lime) (1.11.3)\n",
            "Requirement already satisfied: tqdm in /opt/homebrew/lib/python3.11/site-packages (from lime) (4.66.1)\n",
            "Requirement already satisfied: scikit-learn>=0.18 in /opt/homebrew/lib/python3.11/site-packages (from lime) (1.3.2)\n",
            "Requirement already satisfied: scikit-image>=0.12 in /opt/homebrew/lib/python3.11/site-packages (from lime) (0.22.0)\n",
            "Requirement already satisfied: networkx>=2.8 in /opt/homebrew/lib/python3.11/site-packages (from scikit-image>=0.12->lime) (3.2.1)\n",
            "Requirement already satisfied: pillow>=9.0.1 in /opt/homebrew/lib/python3.11/site-packages (from scikit-image>=0.12->lime) (10.1.0)\n",
            "Requirement already satisfied: imageio>=2.27 in /opt/homebrew/lib/python3.11/site-packages (from scikit-image>=0.12->lime) (2.34.0)\n",
            "Requirement already satisfied: tifffile>=2022.8.12 in /opt/homebrew/lib/python3.11/site-packages (from scikit-image>=0.12->lime) (2024.2.12)\n",
            "Requirement already satisfied: packaging>=21 in /Users/krishpatel/Library/Python/3.11/lib/python/site-packages (from scikit-image>=0.12->lime) (23.2)\n",
            "Requirement already satisfied: lazy_loader>=0.3 in /opt/homebrew/lib/python3.11/site-packages (from scikit-image>=0.12->lime) (0.3)\n",
            "Requirement already satisfied: joblib>=1.1.1 in /opt/homebrew/lib/python3.11/site-packages (from scikit-learn>=0.18->lime) (1.3.2)\n",
            "Requirement already satisfied: threadpoolctl>=2.0.0 in /opt/homebrew/lib/python3.11/site-packages (from scikit-learn>=0.18->lime) (3.2.0)\n",
            "Requirement already satisfied: contourpy>=1.0.1 in /opt/homebrew/lib/python3.11/site-packages (from matplotlib->lime) (1.1.1)\n",
            "Requirement already satisfied: cycler>=0.10 in /opt/homebrew/lib/python3.11/site-packages (from matplotlib->lime) (0.12.1)\n",
            "Requirement already satisfied: fonttools>=4.22.0 in /opt/homebrew/lib/python3.11/site-packages (from matplotlib->lime) (4.43.1)\n",
            "Requirement already satisfied: kiwisolver>=1.0.1 in /opt/homebrew/lib/python3.11/site-packages (from matplotlib->lime) (1.4.5)\n",
            "Requirement already satisfied: pyparsing>=2.3.1 in /opt/homebrew/lib/python3.11/site-packages (from matplotlib->lime) (3.1.1)\n",
            "Requirement already satisfied: python-dateutil>=2.7 in /Users/krishpatel/Library/Python/3.11/lib/python/site-packages (from matplotlib->lime) (2.8.2)\n",
            "Requirement already satisfied: six>=1.5 in /opt/homebrew/lib/python3.11/site-packages (from python-dateutil>=2.7->matplotlib->lime) (1.16.0)\n",
            "Building wheels for collected packages: lime\n",
            "  Building wheel for lime (setup.py) ... \u001b[?25ldone\n",
            "\u001b[?25h  Created wheel for lime: filename=lime-0.2.0.1-py3-none-any.whl size=283834 sha256=365a2617c15910d2e1d352c7417eddaac734208561d9ebfbd6c65485996cefc5\n",
            "  Stored in directory: /Users/krishpatel/Library/Caches/pip/wheels/85/fa/a3/9c2d44c9f3cd77cf4e533b58900b2bf4487f2a17e8ec212a3d\n",
            "Successfully built lime\n",
            "Installing collected packages: lime\n",
            "Successfully installed lime-0.2.0.1\n",
            "\n",
            "\u001b[1m[\u001b[0m\u001b[34;49mnotice\u001b[0m\u001b[1;39;49m]\u001b[0m\u001b[39;49m A new release of pip is available: \u001b[0m\u001b[31;49m23.3.2\u001b[0m\u001b[39;49m -> \u001b[0m\u001b[32;49m24.0\u001b[0m\n",
            "\u001b[1m[\u001b[0m\u001b[34;49mnotice\u001b[0m\u001b[1;39;49m]\u001b[0m\u001b[39;49m To update, run: \u001b[0m\u001b[32;49mpython3.11 -m pip install --upgrade pip\u001b[0m\n",
            "Note: you may need to restart the kernel to use updated packages.\n"
          ]
        }
      ],
      "source": [
        "%load_ext autoreload\n",
        "%autoreload 2\n",
        "import os,sys\n",
        "try:\n",
        "    import lime\n",
        "except:\n",
        "    %pip install lime\n",
        "    import lime"
      ]
    },
    {
      "cell_type": "code",
      "execution_count": 15,
      "metadata": {
        "collapsed": true,
        "deletable": true,
        "editable": true,
        "id": "dSqKXZxVvCVm"
      },
      "outputs": [
        {
          "name": "stderr",
          "output_type": "stream",
          "text": [
            "/opt/homebrew/lib/python3.11/site-packages/tqdm/auto.py:21: TqdmWarning: IProgress not found. Please update jupyter and ipywidgets. See https://ipywidgets.readthedocs.io/en/stable/user_install.html\n",
            "  from .autonotebook import tqdm as notebook_tqdm\n"
          ]
        }
      ],
      "source": [
        "from lime import lime_image\n",
        "from lime.wrappers.scikit_image import SegmentationAlgorithm\n",
        "explainer = lime_image.LimeImageExplainer(verbose = False)\n",
        "segmenter = SegmentationAlgorithm('quickshift', kernel_size=1, max_dist=200, ratio=0.2)"
      ]
    },
    {
      "cell_type": "code",
      "execution_count": 16,
      "metadata": {
        "deletable": true,
        "editable": true,
        "id": "IwKOQo5UvCVm",
        "scrolled": true
      },
      "outputs": [
        {
          "name": "stderr",
          "output_type": "stream",
          "text": [
            "100%|██████████| 10000/10000 [00:01<00:00, 5487.39it/s]"
          ]
        },
        {
          "name": "stdout",
          "output_type": "stream",
          "text": [
            "CPU times: user 11.7 s, sys: 800 ms, total: 12.5 s\n",
            "Wall time: 1.93 s\n"
          ]
        },
        {
          "name": "stderr",
          "output_type": "stream",
          "text": [
            "\n"
          ]
        }
      ],
      "source": [
        "%%time\n",
        "explanation = explainer.explain_instance(X_test[0],\n",
        "                                         classifier_fn = simple_nn_pipeline.predict_proba,\n",
        "                                         top_labels=10, hide_color=0, num_samples=10000, segmentation_fn=segmenter)"
      ]
    },
    {
      "cell_type": "code",
      "execution_count": 17,
      "metadata": {
        "deletable": true,
        "editable": true,
        "id": "Litk_WtDvCVm"
      },
      "outputs": [
        {
          "data": {
            "text/plain": [
              "Text(0.5, 1.0, 'Positive/Negative Regions for 4')"
            ]
          },
          "execution_count": 17,
          "metadata": {},
          "output_type": "execute_result"
        },
        {
          "data": {
            "image/png": "[encoded data removed]",
            "text/plain": [
              "<Figure size 800x400 with 2 Axes>"
            ]
          },
          "metadata": {},
          "output_type": "display_data"
        }
      ],
      "source": [
        "temp, mask = explanation.get_image_and_mask(y_test.values[0], positive_only=True, num_features=10, hide_rest=False, min_weight = 0.01)\n",
        "fig, (ax1, ax2) = plt.subplots(1,2, figsize = (8, 4))\n",
        "ax1.imshow(label2rgb(mask,temp, bg_label = 0), interpolation = 'nearest')\n",
        "ax1.set_title('Positive Regions for {}'.format(y_test.values[0]))\n",
        "temp, mask = explanation.get_image_and_mask(y_test.values[0], positive_only=False, num_features=10, hide_rest=False, min_weight = 0.01)\n",
        "ax2.imshow(label2rgb(3-mask,temp, bg_label = 0), interpolation = 'nearest')\n",
        "ax2.set_title('Positive/Negative Regions for {}'.format(y_test.values[0]))"
      ]
    },
    {
      "cell_type": "code",
      "execution_count": 18,
      "metadata": {
        "deletable": true,
        "editable": true,
        "id": "XBtVDgCIvCVm"
      },
      "outputs": [
        {
          "data": {
            "image/png": "[encoded data removed]",
            "text/plain": [
              "<Figure size 1200x600 with 10 Axes>"
            ]
          },
          "metadata": {},
          "output_type": "display_data"
        }
      ],
      "source": [
        "# now show them for each class\n",
        "fig, m_axs = plt.subplots(2,5, figsize = (12,6))\n",
        "for i, c_ax in enumerate(m_axs.flatten()):\n",
        "    temp, mask = explanation.get_image_and_mask(i, positive_only=True, num_features=1000, hide_rest=False, min_weight = 0.01 )\n",
        "    c_ax.imshow(label2rgb(mask,X_test[0], bg_label = 0), interpolation = 'nearest')\n",
        "    c_ax.set_title('Positive for {}\\nActual {}'.format(i, y_test.values[0]))\n",
        "    c_ax.axis('off')"
      ]
    },
    {
      "cell_type": "markdown",
      "metadata": {
        "deletable": true,
        "editable": true,
        "id": "Gx-pPtZSvCVn"
      },
      "source": [
        "# Gaining Insight\n",
        "Can we find an explanation for a classification the algorithm got wrong"
      ]
    },
    {
      "cell_type": "code",
      "execution_count": 19,
      "metadata": {
        "deletable": true,
        "editable": true,
        "id": "MtNrLn7dvCVn"
      },
      "outputs": [
        {
          "name": "stdout",
          "output_type": "stream",
          "text": [
            "Using #23553 where the label was 4 and the pipeline predicted 9\n"
          ]
        }
      ],
      "source": [
        "pipe_pred_test = simple_nn_pipeline.predict(X_test)\n",
        "np.random.seed(0)\n",
        "wrong_idx = np.random.choice(np.where(pipe_pred_test!=y_test)[0])\n",
        "print('Using #{} where the label was {} and the pipeline predicted {}'.format(wrong_idx, y_test.values[wrong_idx], pipe_pred_test[wrong_idx]))"
      ]
    },
    {
      "cell_type": "code",
      "execution_count": 20,
      "metadata": {
        "deletable": true,
        "editable": true,
        "id": "aQ8eCNRivCVn"
      },
      "outputs": [
        {
          "name": "stderr",
          "output_type": "stream",
          "text": [
            "100%|██████████| 10000/10000 [00:01<00:00, 5392.52it/s]"
          ]
        },
        {
          "name": "stdout",
          "output_type": "stream",
          "text": [
            "CPU times: user 12.2 s, sys: 782 ms, total: 13 s\n",
            "Wall time: 1.92 s\n"
          ]
        },
        {
          "name": "stderr",
          "output_type": "stream",
          "text": [
            "\n"
          ]
        }
      ],
      "source": [
        "%%time\n",
        "explanation = explainer.explain_instance(X_test[wrong_idx],\n",
        "                                         classifier_fn = simple_nn_pipeline.predict_proba,\n",
        "                                         top_labels=10, hide_color=0, num_samples=10000, segmentation_fn=segmenter)"
      ]
    },
    {
      "cell_type": "code",
      "execution_count": 21,
      "metadata": {
        "deletable": true,
        "editable": true,
        "id": "H8-HbrwNvCVn"
      },
      "outputs": [
        {
          "data": {
            "image/png": "[encoded data removed]",
            "text/plain": [
              "<Figure size 1200x600 with 10 Axes>"
            ]
          },
          "metadata": {},
          "output_type": "display_data"
        }
      ],
      "source": [
        "# now show them for each class\n",
        "fig, m_axs = plt.subplots(2,5, figsize = (12,6))\n",
        "for i, c_ax in enumerate(m_axs.flatten()):\n",
        "    temp, mask = explanation.get_image_and_mask(i, positive_only=True, num_features=10, hide_rest=False, min_weight = 0.01 )\n",
        "    c_ax.imshow(label2rgb(mask,temp, bg_label = 0), interpolation = 'nearest')\n",
        "    c_ax.set_title('Positive for {}\\nActual {}'.format(i, y_test.values[wrong_idx]))\n",
        "    c_ax.axis('off')"
      ]
    },
    {
      "cell_type": "markdown",
      "metadata": {
        "id": "d0JFawokkPw3"
      },
      "source": [
        "Explain why the model misclassified this example based on the output of LIME:\n",
        "\n",
        "According to the picture above, we can see that the model classified the handwritten digit 4 as a 9. From the LIME used earlier for the correctly predicted 4, we can see that the red portion is used to classify if the digit is a 9. For this specific example, which features a closed 4, the portion that contributes to the classification of 9 is highlighted, and thus, the classifier labels it as a 9 instead. The most likely explanation of the misclassification, thus, is the closed part of the 4 which is what the model uses to classify a 9 from the LIME analysis for the open 4 above."
      ]
    }
  ],
  "metadata": {
    "colab": {
      "provenance": []
    },
    "kernelspec": {
      "display_name": "Python 3",
      "language": "python",
      "name": "python3"
    },
    "language_info": {
      "codemirror_mode": {
        "name": "ipython",
        "version": 3
      },
      "file_extension": ".py",
      "mimetype": "text/x-python",
      "name": "python",
      "nbconvert_exporter": "python",
      "pygments_lexer": "ipython3",
      "version": "3.11.6"
    }
  },
  "nbformat": 4,
  "nbformat_minor": 0
}
